{
 "cells": [
  {
   "cell_type": "code",
   "execution_count": null,
   "metadata": {},
   "outputs": [],
   "source": [
    "import pandas as pd\n",
    "import matplotlib.pyplot as plt\n",
    "import seaborn as sns\n",
    "import numpy as np"
   ]
  },
  {
   "cell_type": "code",
   "execution_count": null,
   "metadata": {},
   "outputs": [],
   "source": [
    "#Importa turmas ingressantes de 2017 a 2015\n",
    "url_ingressantes2017_1 = 'http://dados.ufrn.br/dataset/c8650d55-3c5a-4787-a126-d28a4ef902a6/resource/79071c21-e32c-438f-b930-d1b6ccc02ec2/download/matricula-componente-20171'\n",
    "url_ingressantes2017_2 = 'http://dados.ufrn.br/dataset/c8650d55-3c5a-4787-a126-d28a4ef902a6/resource/55dfe713-ff7c-4fa8-8d1d-d4294a025bff/download/matricula-componente-20172'\n",
    "url_ingressantes2016_1 = 'http://dados.ufrn.br/dataset/c8650d55-3c5a-4787-a126-d28a4ef902a6/resource/4778d3ce-8898-46a8-a623-ee6a480a2980/download/matriculas-de-2016.1.csv'\n",
    "url_ingressantes2016_2 = 'http://dados.ufrn.br/dataset/c8650d55-3c5a-4787-a126-d28a4ef902a6/resource/f6179838-b619-4d7d-af9c-18c438b80dd4/download/matriculas-de-2016.2.csv'\n",
    "url_ingressantes2015_1 = 'http://dados.ufrn.br/dataset/c8650d55-3c5a-4787-a126-d28a4ef902a6/resource/9e7ba1c2-f92d-4b9c-9e91-3b026ecdf913/download/matriculas-de-2015.1.csv'\n",
    "url_ingressantes2015_2 = 'http://dados.ufrn.br/dataset/c8650d55-3c5a-4787-a126-d28a4ef902a6/resource/baa6c8b4-2072-417f-b238-c028ccc8c14b/download/matriculas-de-2015.2.csv'\n",
    "\n",
    "#Cria dataframe com as turmas importadas\n",
    "df_ingressantes2017_1 = pd.read_csv(url_ingressantes2017_1, sep=';')\n",
    "df_ingressantes2017_2 = pd.read_csv(url_ingressantes2017_2, sep=';')\n",
    "df_ingressantes2016_1 = pd.read_csv(url_ingressantes2016_1, sep=';')\n",
    "df_ingressantes2016_2 = pd.read_csv(url_ingressantes2016_2, sep=';')\n",
    "df_ingressantes2015_1 = pd.read_csv(url_ingressantes2015_1, sep=';')\n",
    "df_ingressantes2015_2 = pd.read_csv(url_ingressantes2015_2, sep=';')"
   ]
  },
  {
   "cell_type": "code",
   "execution_count": null,
   "metadata": {},
   "outputs": [],
   "source": [
    "#Inserindo dados em uma lista\n",
    "matriculas = []\n",
    "\n",
    "for i in range(15,18):\n",
    "    for j in range (1,2):\n",
    "        matriculas.append(vars()['df_ingressantes20%d_%d' % (i, j)])"
   ]
  },
  {
   "cell_type": "code",
   "execution_count": null,
   "metadata": {},
   "outputs": [],
   "source": [
    "# concatenando todas as listas em um dataframe\n",
    "df_matriculas = pd.concat(matriculas)\n",
    "\n",
    "# limpandos os index após o merge\n",
    "df_matriculas.reset_index(drop=True,inplace=True)"
   ]
  },
  {
   "cell_type": "code",
   "execution_count": null,
   "metadata": {},
   "outputs": [],
   "source": [
    "# verificando inicialmente os dados importados\n",
    "df_matriculas.tail()"
   ]
  },
  {
   "cell_type": "code",
   "execution_count": null,
   "metadata": {},
   "outputs": [],
   "source": [
    "# tamanho dos dados\n",
    "print(df_matriculas.shape)\n",
    "\n",
    "# colunas do dataset\n",
    "print(df_matriculas.columns)"
   ]
  },
  {
   "cell_type": "code",
   "execution_count": null,
   "metadata": {},
   "outputs": [],
   "source": [
    "# Filtrar o curso de tecnologia da informação, que o código é 92127264\n",
    "\n",
    "matriculas_imd = df_matriculas[df_matriculas.id_curso == 92127264]\n",
    "matriculas_imd.reset_index(drop=True, inplace=True)\n",
    "matriculas_imd.head()"
   ]
  },
  {
   "cell_type": "code",
   "execution_count": null,
   "metadata": {},
   "outputs": [],
   "source": [
    "# Investigando a descrição das matriculas\n",
    "\n",
    "print(matriculas_imd.descricao.unique())"
   ]
  },
  {
   "cell_type": "markdown",
   "metadata": {},
   "source": [
    "\n"
   ]
  },
  {
   "cell_type": "code",
   "execution_count": null,
   "metadata": {
    "scrolled": true
   },
   "outputs": [],
   "source": [
    "# Removendo matriculas que foram excluidas\n",
    "matriculas_consolidadas = matriculas_imd[(matriculas_imd.descricao != 'EXCLUIDA') & (matriculas_imd.descricao != 'CANCELADO')]\n",
    "matriculas_consolidadas.reset_index(drop=True, inplace=True)\n",
    "matriculas_consolidadas.head()"
   ]
  },
  {
   "cell_type": "code",
   "execution_count": null,
   "metadata": {},
   "outputs": [],
   "source": [
    "matriculas_consolidadas.to_csv(\"matriculas.csv\", sep=';')"
   ]
  },
  {
   "cell_type": "code",
   "execution_count": null,
   "metadata": {},
   "outputs": [],
   "source": [
    "# Lê CSV e converte para json\n",
    "csvfile = pd.DataFrame(pd.read_csv(\"matriculas.csv\", sep = \";\", header = 0, index_col = False))\n",
    "csvfile.to_json(\"matriculas.json\", orient = \"records\", date_format = \"epoch\", double_precision = 10, force_ascii = True, date_unit = \"ms\", default_handler = None)\n"
   ]
  }
 ],
 "metadata": {
  "kernelspec": {
   "display_name": "Python 3",
   "language": "python",
   "name": "python3"
  },
  "language_info": {
   "codemirror_mode": {
    "name": "ipython",
    "version": 3
   },
   "file_extension": ".py",
   "mimetype": "text/x-python",
   "name": "python",
   "nbconvert_exporter": "python",
   "pygments_lexer": "ipython3",
   "version": "3.6.4"
  }
 },
 "nbformat": 4,
 "nbformat_minor": 2
}
